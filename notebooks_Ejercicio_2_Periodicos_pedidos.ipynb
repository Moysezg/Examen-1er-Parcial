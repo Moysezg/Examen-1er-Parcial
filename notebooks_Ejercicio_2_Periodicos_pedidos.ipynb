{
  "metadata": {
    "widgets": {
      "application/vnd.jupyter.widget-state+json": {
        "version_major": 2,
        "version_minor": 0,
        "state": {}
      }
    },
    "kernelspec": {
      "name": "python",
      "display_name": "Python (Pyodide)",
      "language": "python"
    },
    "language_info": {
      "codemirror_mode": {
        "name": "python",
        "version": 3
      },
      "file_extension": ".py",
      "mimetype": "text/x-python",
      "name": "python",
      "nbconvert_exporter": "python",
      "pygments_lexer": "ipython3",
      "version": "3.8"
    }
  },
  "nbformat_minor": 5,
  "nbformat": 4,
  "cells": [
    {
      "cell_type": "markdown",
      "source": "# Ejercicio 2. Problema 25\n### Un quiosquero vende periódicos a 1.10 euros cada uno. Cada periódico le cuesta al quiosquero 0.90 euros. Las ventas de periódicos del quiosquero a partir de su experiencia se refleja en la tabla siguiente.\n\n### Periódicos 30 40 50 60 70\n### f(x) 20 % 25 % 25 % 20 % 10 %\n",
      "metadata": {},
      "id": "f701df5c-a925-4844-ae88-9a1640653047"
    },
    {
      "cell_type": "markdown",
      "source": "## 1. La variable es determinada por el número de periodicos vendidos. ",
      "metadata": {},
      "id": "b3cc69bb-ed72-4148-bbce-c4594e416307"
    },
    {
      "cell_type": "markdown",
      "source": "## 2. La distribución se obtiene a partir de los datos historicos.  ",
      "metadata": {},
      "id": "f096ba17-021b-4750-a9d7-248ca4f9e7bc"
    },
    {
      "cell_type": "markdown",
      "source": "## 3. La distribución enumerada es: \n### {0.20}, {0.20+0.25=0.45}, {0.45+0.25=0.70}, {0.70+0.20=0.90}, {0.90+ 0.10=1}\n## F(x)= {0.20, 0.45, 0.70, 0.90, 1}",
      "metadata": {},
      "id": "1f7dbde4-4e23-469c-bda3-5afcbc83a047"
    },
    {
      "cell_type": "markdown",
      "source": "## 4. Intervalos generados:\n## {0 a 0.19}, {0.20 a 0.44}, {0.45 a 0.69}, {0.70 a 0.89} {0.90 a 1}\n    ",
      "metadata": {},
      "id": "458ea02d-fd82-484e-98c0-239c5f9fbacd"
    },
    {
      "cell_type": "markdown",
      "source": "## 5 Generación de números aleatorios $x_{1} \\sim U(0,1)$ ",
      "metadata": {},
      "id": "6554c1ed-bd47-4eb2-bae1-1de37e3d4e33"
    },
    {
      "cell_type": "code",
      "source": "import numpy as np\nimport random\nimport matplotlib.pyplot as plt\nfrom scipy.stats import norm",
      "metadata": {
        "trusted": true
      },
      "execution_count": 1770,
      "outputs": [],
      "id": "7b74b19a-8602-4b68-b18b-64662668aa6f"
    },
    {
      "cell_type": "code",
      "source": "pedido=50 #cantidad de periódico solicitado.\npuv=1.10 #Precio unitario de venta.\ncua=0.90 #Costo unitario de adquisicón.\ncur=0.10 # Costo unitario de reciclaje.\ncvp=0.20 # Costo de venta perdida.\nbp=0 # beneficio promedio.",
      "metadata": {
        "trusted": true
      },
      "execution_count": 1771,
      "outputs": [],
      "id": "0e95f1f9-63fd-4e6e-ad95-39a353de169f"
    },
    {
      "cell_type": "code",
      "source": "def bene(): #La función bene es lo que nos dara el beneficio por un día.\n    va=round(random.uniform(0, 1),4) #Regresa una v.a con distribución uniforme entre 0 y 1 redondeado a 4 digitos decimales.\n    \n    if 0<=va and va<0.20 :  #Se crea una lista de ciclo's if para generar la simulación de ventas de periodicos.\n        ventassimu=30\n      \n    if 0.20<=va and va<0.45 :\n        ventassimu=40\n      \n    if 0.45<=va and va<0.70 :\n        ventassimu=50\n      \n\n    if 0.70<=va and va<0.90 :\n        ventassimu=60\n      \n\n    if 0.90<=va and va<1 :\n        ventassimu=70\n      \n    \n    if pedido < ventassimu :\n        ventasreales=pedido\n        ventasperdidas=ventassimu-pedido\n        periodicosnov=0\n        \n\n    if pedido >= ventassimu :\n        ventasreales=ventassimu\n        ventasperdidas=0\n        periodicosnov=pedido-ventasreales\n        \n    #print(\"ventas simuladas:\",ventassimu,\"ventas reales:\",ventasreales,\"ventas perdidas:\",ventasperdidas,\"Periodicos no vendidos:\",periodicosnov)\n    Beneficio=(puv*ventasreales)-(cua*pedido)-(cur*periodicosnov)-(cvp*ventasperdidas)\n    \n    return Beneficio #Nos arroja el beneficio",
      "metadata": {
        "trusted": true
      },
      "execution_count": 1772,
      "outputs": [],
      "id": "c610d997-b003-419a-8def-27be510ee4af"
    },
    {
      "cell_type": "code",
      "source": "bene() #beneficio por día",
      "metadata": {
        "trusted": true
      },
      "execution_count": 1773,
      "outputs": [
        {
          "execution_count": 1771,
          "output_type": "execute_result",
          "data": {
            "text/plain": "10.000000000000007"
          },
          "metadata": {}
        }
      ],
      "id": "fe55883a-6887-43dd-9498-5333a51799e2"
    },
    {
      "cell_type": "code",
      "source": "def proba(n):                    \n    prob = []                       # Esta funcion devuelve esta lista \"prob\", arroja el beneficio promedio\n    bp = 0                       # seria la suma de los beneficios entre la cantidad de veces realizado la simulación. \n    for i in range(n):              \n        bp= (bp + bene() )\n        bpa=bp/(i+1)\n        #print(i,\"Beneficio promedio:\",bpa)\n        prob.append(round(bpa,5))    # Agregamos el beneficio promedio introducido a la lista\n                    \n    return prob",
      "metadata": {
        "trusted": true
      },
      "execution_count": 1774,
      "outputs": [],
      "id": "928b0975-2640-42bf-a280-98d9fb7d648b"
    },
    {
      "cell_type": "code",
      "source": "X = proba(1000)  #esto sería hacer un experimento.",
      "metadata": {
        "trusted": true
      },
      "execution_count": 1775,
      "outputs": [],
      "id": "af1f6908-f2bf-47ed-aa71-68082b520e63"
    },
    {
      "cell_type": "code",
      "source": "plt.plot(X)  ",
      "metadata": {
        "trusted": true
      },
      "execution_count": 1776,
      "outputs": [
        {
          "execution_count": 1774,
          "output_type": "execute_result",
          "data": {
            "text/plain": "[<matplotlib.lines.Line2D at 0xe76b1c0>]"
          },
          "metadata": {}
        },
        {
          "output_type": "display_data",
          "data": {
            "text/plain": "<Figure size 640x480 with 1 Axes>",
            "image/png": "[encoded data removed]"
          },
          "metadata": {}
        }
      ],
      "id": "4bf71c5b-6998-4177-ad3c-e99417dd6721"
    },
    {
      "cell_type": "code",
      "source": "print(np.mean(X), np.std(X))",
      "metadata": {
        "trusted": true
      },
      "execution_count": 1777,
      "outputs": [
        {
          "name": "stdout",
          "text": "0.6321749200000001 1.2301969006329814\n",
          "output_type": "stream"
        }
      ],
      "id": "87887635-b58c-4c13-b82e-8f8222d4f741"
    },
    {
      "cell_type": "markdown",
      "source": "## 6 Repetir el experimento $N$ veces. ",
      "metadata": {},
      "id": "d8764945-dfe2-4ff9-8edf-47f140560b2a"
    },
    {
      "cell_type": "code",
      "source": "def beneficiodia(n): #con esta función se realiza la simulación de n veces el experimento.\n    lista=[]\n    for i in range(n):\n        X = proba(1000)  \n        s = np.mean(X)\n        lista.append(np.mean(s))\n    return lista\n",
      "metadata": {
        "trusted": true
      },
      "execution_count": 1778,
      "outputs": [],
      "id": "fc3e8658-361b-4f0c-8ce5-2fc6b8e18961"
    },
    {
      "cell_type": "code",
      "source": "Y=beneficiodia(20)",
      "metadata": {
        "trusted": true
      },
      "execution_count": 1779,
      "outputs": [],
      "id": "547bba50-a774-4b44-bb83-68b70e9e5474"
    },
    {
      "cell_type": "code",
      "source": "plt.hist(Y)\nplt.show()",
      "metadata": {
        "trusted": true
      },
      "execution_count": 1780,
      "outputs": [
        {
          "output_type": "display_data",
          "data": {
            "text/plain": "<Figure size 640x480 with 1 Axes>",
            "image/png": "[encoded data removed]"
          },
          "metadata": {}
        }
      ],
      "id": "fa5ce35e-12a9-4439-8cac-315b577430a7"
    },
    {
      "cell_type": "code",
      "source": "print(\"el beneficio promedio es:\",np.mean(Y),\"desviación estandar:\", np.std(Y)) #El beneficio por día será aproximadamente de 1.58",
      "metadata": {
        "trusted": true
      },
      "execution_count": 1800,
      "outputs": [
        {
          "name": "stdout",
          "text": "el beneficio promedio es: 1.4417977489999998 desviación estandar: 0.4536825628748423\n",
          "output_type": "stream"
        }
      ],
      "id": "a09b1d5e-d036-4fb6-8f9a-4eaef57500e8"
    },
    {
      "cell_type": "markdown",
      "source": "## 7 El intervalo de confianza:\n    ",
      "metadata": {},
      "id": "9f89eb36-9878-499a-8ce1-7b53f543d63d"
    },
    {
      "cell_type": "code",
      "source": "li=np.mean(Y) - 1.96*np.std(Y)/np.sqrt(50)\nls=np.mean(Y) + 1.96*np.std(Y)/np.sqrt(50)\nif li <= np.mean(Y) <= ls:\n    print(li, \"<= Media:\", np.mean(Y), \"<=\", ls) \n    print(\"Se acepta la hipótesis con un nivel de confiabilidad del 95%\")\n    ",
      "metadata": {
        "trusted": true
      },
      "execution_count": 1801,
      "outputs": [
        {
          "name": "stdout",
          "text": "1.3160433584477618 <= Media: 1.4417977489999998 <= 1.5675521395522378\nSe acepta la hipótesis con un nivel de confiabilidad del 95%\n",
          "output_type": "stream"
        }
      ],
      "id": "bbc6a23b-1529-4a65-ab3d-e7bdb664fa95"
    },
    {
      "cell_type": "markdown",
      "source": "## 8. El pedido de periodicos que maximiza la función tiene que ser un pedido entre 0 y 70, de la fución de beneficio promed,en vez de pedir 50 periodicos, ahora se convertira en una una función que arrojara el beneficio de pedir 0 periodicos hasta 70, se guardara en una lista y se obtendra el máximo.",
      "metadata": {},
      "id": "9ee0936d-008b-4e1a-9a02-180949416d78"
    },
    {
      "cell_type": "code",
      "source": "lista2=[] #Con está lista, se tendra el beneficio de pedir de 0 hasta 70 periodicos.\nfor i in range(71):\n    pedido=i\n    bene()\n    X = proba(1000)  \n    w=np.mean(X)\n    lista2.append(np.mean(w))\n    \nplt.hist(lista2) ",
      "metadata": {
        "trusted": true
      },
      "execution_count": 1798,
      "outputs": [
        {
          "execution_count": 1796,
          "output_type": "execute_result",
          "data": {
            "text/plain": "(array([ 2.,  5.,  4.,  6.,  6.,  7.,  7.,  6., 10., 18.]),\n array([-12.8411623 , -11.1910665 ,  -9.54097069,  -7.89087489,\n         -6.24077908,  -4.59068327,  -2.94058747,  -1.29049166,\n          0.35960414,   2.00969994,   3.65979575]),\n <BarContainer object of 10 artists>)"
          },
          "metadata": {}
        },
        {
          "output_type": "display_data",
          "data": {
            "text/plain": "<Figure size 640x480 with 1 Axes>",
            "image/png": "[encoded data removed]"
          },
          "metadata": {}
        }
      ],
      "id": "5404ba8d-557e-4d0b-ae20-574d97952f00"
    },
    {
      "cell_type": "code",
      "source": "max_value = None \nfor num in lista2:\n    if (max_value is None or num > max_value): #La función max_value nos da el valor maximo de una lista.\n        max_value = num\n\nprint(\"Pedir\",i, \"periodicos para obtener el maximo beneficio que es de:\", max_value,)",
      "metadata": {
        "trusted": true
      },
      "execution_count": 1803,
      "outputs": [
        {
          "name": "stdout",
          "text": "Pedir 70 periodicos para obtener el maximo beneficio que es de: 3.6597957500000002\n",
          "output_type": "stream"
        }
      ],
      "id": "7466c3fe-0614-403e-ab57-cc7444d2b214"
    }
  ]
}