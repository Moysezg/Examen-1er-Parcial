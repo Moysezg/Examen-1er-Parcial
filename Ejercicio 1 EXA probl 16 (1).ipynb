{
  "metadata": {
    "language_info": {
      "codemirror_mode": {
        "name": "python",
        "version": 3
      },
      "file_extension": ".py",
      "mimetype": "text/x-python",
      "name": "python",
      "nbconvert_exporter": "python",
      "pygments_lexer": "ipython3",
      "version": "3.8"
    },
    "kernelspec": {
      "name": "python",
      "display_name": "Python (Pyodide)",
      "language": "python"
    }
  },
  "nbformat_minor": 4,
  "nbformat": 4,
  "cells": [
    {
      "cell_type": "markdown",
      "source": "# Ejercicio 1 \n## Dos personas han quedado citas en un determinado lugar. Ambas tienen la misma probabilidad de llegar al lugar de la cita en el intervalo de tiempo [0, 30].\n## Determínese la probabilidad de que el tiempo que una persona espere a la otra sea como máximo 10.",
      "metadata": {}
    },
    {
      "cell_type": "markdown",
      "source": "### 1. Identificación de las variables: Se tendran Dos variables aleatorias independientes  $x_{1}$, $x_{2}$ simulando a las 2 personas participantes.",
      "metadata": {}
    },
    {
      "cell_type": "markdown",
      "source": "### 2. Se especifica que $x_{1}$, $x_{2}$ $\\sim$ $U[0,30]$",
      "metadata": {}
    },
    {
      "cell_type": "markdown",
      "source": "### 3. Generando  $x_{1}$ $\\sim U(0,30)$ y $x_{2} \\sim(0,30)$",
      "metadata": {}
    },
    {
      "cell_type": "markdown",
      "source": "### 4. El modelo del sistema consistira en comparar el tiempo de llegada de las persona 1 y de la persona 2, si la diferencia de tiempo de las personas es menor a 10 min $(|x_1-x_2|\\leq 10)$ se toma como un evento positivo.",
      "metadata": {}
    },
    {
      "cell_type": "code",
      "source": "import numpy as np\nimport random\nimport matplotlib.pyplot as plt\nfrom scipy.stats import norm",
      "metadata": {
        "trusted": true
      },
      "execution_count": 2,
      "outputs": []
    },
    {
      "cell_type": "code",
      "source": "def llegada():\n    exito=0 \n    x_1=round(random.uniform(0, 30),2) #Regresa una v.a uniforme entre 0 y 30 redondeado a 2 digitos decimales.\n    x_2=round(random.uniform(0, 30),2) #simulando que es el tiempo medido en minutos con segundos.\n    if abs(x_1-x_2)<=10:\n        exito+=1 #Si el tiempo de espera entre las personas esta entre 0 y 10 min. entonces se toma el experimento como \"exito\".\n    return exito",
      "metadata": {
        "trusted": true
      },
      "execution_count": 3,
      "outputs": []
    },
    {
      "cell_type": "code",
      "source": "llegada()",
      "metadata": {
        "trusted": true
      },
      "execution_count": 4,
      "outputs": [
        {
          "execution_count": 4,
          "output_type": "execute_result",
          "data": {
            "text/plain": "1"
          },
          "metadata": {}
        }
      ]
    },
    {
      "cell_type": "markdown",
      "source": "### 5. Diseñe el experimento. \n\n### Para estimar la probabilidad de que el tiempo de llegada entre la persona 1 y la persona 2 sea menor o igual a 10 min, ejecutamos $n$\n### veces la función anterior y calculamos de manera acumulativa la probabilidad de llegada.",
      "metadata": {}
    },
    {
      "cell_type": "code",
      "source": "def prob_llegada(n):                    \n    prob = []                       # Esta funcion devuelve esta lista \"prob\", con los valores de la probabilidad\n    exito1 = 0                       # estimada al contar las veces que hay interferencia y dividir entre las veces que \n    for i in range(n):              # se ha reptido la observacion mientras aumenta el numero de iteraciones.\n        exito1 += llegada()\n        prob.append(exito1/(i+1))\n    return prob",
      "metadata": {
        "trusted": true
      },
      "execution_count": 5,
      "outputs": []
    },
    {
      "cell_type": "code",
      "source": "X = prob_llegada(1500)                # Asignamos valores a n y realizamos el experimento",
      "metadata": {
        "trusted": true
      },
      "execution_count": 6,
      "outputs": []
    },
    {
      "cell_type": "code",
      "source": "plt.plot(X)       # La gráfica muestra que la convergencia está garantizada con 500 iteraciones\n                                    # Sin embargo, diferentes ejecuciones darán resultados distintos",
      "metadata": {
        "trusted": true
      },
      "execution_count": 7,
      "outputs": [
        {
          "execution_count": 7,
          "output_type": "execute_result",
          "data": {
            "text/plain": "[<matplotlib.lines.Line2D at 0x4c28568>]"
          },
          "metadata": {}
        },
        {
          "output_type": "display_data",
          "data": {
            "text/plain": "<Figure size 640x480 with 1 Axes>",
            "image/png": "[encoded data removed]"
          },
          "metadata": {}
        }
      ]
    },
    {
      "cell_type": "markdown",
      "source": "### La probabilidad de realizar el experimento una vez converge a:",
      "metadata": {}
    },
    {
      "cell_type": "markdown",
      "source": "\nprint(np.mean(X), np.std(X))",
      "metadata": {}
    },
    {
      "cell_type": "markdown",
      "source": "### 6. Repita el experimento $n$ veces\n\n### Una forma de hacerlo es mediante el siguiente código. ",
      "metadata": {}
    },
    {
      "cell_type": "code",
      "source": "def modelo(n):\n    lista=[]\n    for i in range(n):\n        s = prob_llegada(500)\n        lista.append(np.mean(s))\n    return lista",
      "metadata": {
        "trusted": true
      },
      "execution_count": 9,
      "outputs": []
    },
    {
      "cell_type": "code",
      "source": "\nY=modelo(1100)",
      "metadata": {
        "trusted": true
      },
      "execution_count": 16,
      "outputs": []
    },
    {
      "cell_type": "code",
      "source": "plt.hist(Y, bins=30)\nplt.show()",
      "metadata": {
        "trusted": true
      },
      "execution_count": 17,
      "outputs": [
        {
          "output_type": "display_data",
          "data": {
            "text/plain": "<Figure size 640x480 with 1 Axes>",
            "image/png": "[encoded data removed]"
          },
          "metadata": {}
        }
      ]
    },
    {
      "cell_type": "markdown",
      "source": "### La media despúes de realizar n veces el experimento (\"media de medias\") es:",
      "metadata": {}
    },
    {
      "cell_type": "code",
      "source": "print(np.mean(Y), np.std(Y))",
      "metadata": {
        "trusted": true
      },
      "execution_count": 12,
      "outputs": [
        {
          "name": "stdout",
          "text": "0.555784678229449 0.03451447710509764\n",
          "output_type": "stream"
        }
      ]
    },
    {
      "cell_type": "markdown",
      "source": "7. El intervalo de confianza ",
      "metadata": {}
    },
    {
      "cell_type": "code",
      "source": "np.mean(Y)\ny1=np.mean(Y) - 1.96*np.std(Y)/np.sqrt(50)\ny2=np.mean(Y) + 1.96*np.std(Y)/np.sqrt(50)\n\nif y1<np.mean(Y)<y2:\n    print(y1, \"<\",np.mean(Y),\"<\",y2)\n    print(\"Se acepta la hipotesis con una confiabilidad del 95%\")\nelse:\n        print(\"No cumple la hipótesis nula\")",
      "metadata": {
        "trusted": true
      },
      "execution_count": 19,
      "outputs": [
        {
          "name": "stdout",
          "text": "0.5466180560015793 < 0.5551030535916973 < 0.5635880511818153\nSe acepta la hipotesis con una confiabilidad del 95%\n",
          "output_type": "stream"
        }
      ]
    },
    {
      "cell_type": "markdown",
      "source": "# Solución analitica:",
      "metadata": {}
    },
    {
      "cell_type": "markdown",
      "source": "## Se considera un cuadrado donde los lados del cuadrado estan en los puntos (0,0),(0,30),(30,0),(30,30) entonces el área del cuadrado será de 30*30=900 ahora lo que se quiere encontrar es $|x-y| \\leq 10 $ entonces tenemos que encontrar el valor de esa región sombreada y al hacerlo se observan dos trianguolos que dividen al cuadrado con base=20, altura=20 el área de los triangulos sera de $2*(\\tfrac {20*20}{2})=400$ el área de la región sombreada es: $ 900-400=500 $ entonces la probabilidad es:$tfrac{región sombreada}{cuadrado}= \\tfrac{500}{900}=0.55% $ de probabilidad.",
      "metadata": {}
    },
    {
      "cell_type": "markdown",
      "source": "# NOTA:La imagen ilustrativa del cuadrado está en mi GITHUB",
      "metadata": {}
    }
  ]
}